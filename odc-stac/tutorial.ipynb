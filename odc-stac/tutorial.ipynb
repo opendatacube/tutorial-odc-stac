{
 "cells": [
  {
   "cell_type": "markdown",
   "metadata": {},
   "source": [
    "# odc-stac tutorial\n",
    "\n",
    "In this tutorial we will use Python libraries to find and load land cover data from the freely available [Impact Observatory Annual Land Use Land Cover](https://planetarycomputer.microsoft.com/dataset/io-lulc-annual-v02) product.\n",
    "After loading the data, we will export it as Cloud Optimised GeoTIFFs.\n",
    "This will allow you to further view or work with the data in GIS software and other tools.\n",
    "\n",
    "During the tutorial, we will:\n",
    "\n",
    "* Specify our search in terms of:\n",
    "\n",
    "  * what (data provider and product)\n",
    "  * where (area of interest)\n",
    "  * when (date range)\n",
    "* Use `pystac-client` to connect to a Spatio-Temporal Asset Catalog (STAC) \n",
    "  endpoint and search for data matching our what, where, and when\n",
    "* Use `odc-stac` to load the matching data into memory\n",
    "* Visualise and export the data\n",
    "\n",
    "## Requirements\n",
    "Please keep a copy of the [tutorial instructions](https://opendatacube.readthedocs.io/en/latest/tutorials/odc-stac.html) open.\n",
    "\n",
    "Follow the instructions for each labelled section. \n",
    "When you have finished entering code into a cell, press `Shift+Enter` on your keyboard to run the cell."
   ]
  },
  {
   "cell_type": "markdown",
   "metadata": {},
   "source": [
    "## Python imports\n",
    "\n",
    "In this section, you will import five packages that the notebook needs to run:\n",
    "\n",
    "* `geopandas` for loading an area of interest from a GeoJSON file\n",
    "* `odc.geo` for exporting loaded data\n",
    "* `odc.stac` for loading data\n",
    "* `planetary_computer` to provide authentication when accessing data\n",
    "* `pystac-client` for querying catalogs of data\n",
    "\n",
    "Type the code as shown in the instructions.\n",
    "When you have finished, run the cell by pressing `Shift+Enter` on your keyboard."
   ]
  },
  {
   "cell_type": "code",
   "execution_count": null,
   "metadata": {},
   "outputs": [],
   "source": []
  },
  {
   "cell_type": "markdown",
   "metadata": {},
   "source": [
    "## Set up query parameters\n",
    "\n",
    "In this section of the tutorial, you will specify:\n",
    "\n",
    "* The area you want to load data for\n",
    "* The date range you want to load data for\n",
    "* The catalog you want to load data from\n",
    "\n",
    "Follow the instructions for each section."
   ]
  },
  {
   "cell_type": "markdown",
   "metadata": {},
   "source": [
    "### Area of interest\n",
    "\n",
    "In this section, you will:\n",
    "\n",
    "* Load the area of interest from a supplied `geojson` file called `aoi.geojson`\n",
    "* Extract the geometry of the area of interest for later use\n",
    "\n",
    "The area of interest is the island of La Gomera, one of the Canary Islands.\n",
    "\n",
    "![A map of La Gomera with satellite imagery, with the area of interest shown as a yellow bounding box.](images/aoi.png \"Area of interest\")\n",
    "\n",
    "Type the code as shown in the instructions.\n",
    "When you have finished, run the cell by pressing `Shift+Enter` on your keyboard."
   ]
  },
  {
   "cell_type": "code",
   "execution_count": null,
   "metadata": {},
   "outputs": [],
   "source": []
  },
  {
   "cell_type": "markdown",
   "metadata": {},
   "source": [
    "### Date range\n",
    "\n",
    "In this section, you will:\n",
    "* Specify the start date for the search as `\"2021-12-24\"`\n",
    "* Specify the end date for the search as `\"2021-12-26\"`\n",
    "* Store these as a pair of dates in a tuple for later use\n",
    "\n",
    "Type the code as shown in the instructions.\n",
    "When you have finished, run the cell by pressing `Shift+Enter` on your keyboard."
   ]
  },
  {
   "cell_type": "code",
   "execution_count": null,
   "metadata": {},
   "outputs": [],
   "source": []
  },
  {
   "cell_type": "markdown",
   "metadata": {},
   "source": [
    "### STAC metadata\n",
    "\n",
    "In this section, you will:\n",
    "* Specify the STAC URL for the catalog to search as `\"https://planetarycomputer.microsoft.com/api/stac/v1/\"`\n",
    "* Specify the desired collection as `[\"io-lulc-annual-v02\"]`\n",
    "* Specify the desired assets as `[\"data\"]`\n",
    "\n",
    "Type the code as shown in the instructions.\n",
    "When you have finished, run the cell by pressing `Shift+Enter` on your keyboard.\n"
   ]
  },
  {
   "cell_type": "code",
   "execution_count": null,
   "metadata": {},
   "outputs": [],
   "source": []
  },
  {
   "cell_type": "markdown",
   "metadata": {},
   "source": [
    "## Connect to catalog and find items\n",
    "\n",
    "In this section, you will:\n",
    "* Use the `pystac-client` `Client` class to connect to Planetary Computer's STAC catalog.\n",
    "* Supply the `planetary_computer.sign_inplace` function to the `modifier` argument to authenticate the connection.\n",
    "\n",
    "Type the code as shown in the instructions.\n",
    "When you have finished, run the cell by pressing `Shift+Enter` on your keyboard."
   ]
  },
  {
   "cell_type": "code",
   "execution_count": null,
   "metadata": {},
   "outputs": [],
   "source": []
  },
  {
   "cell_type": "markdown",
   "metadata": {},
   "source": [
    "### Search for items\n",
    "\n",
    "In this section, you will use `pystac-client` to search for items that match a query.\n",
    "The search function has a few arguments:\n",
    "\n",
    "- `collections`: a list of collections to search\n",
    "- `intersects`: an area of interest to search. Any item intersecting the geometry will be returned.\n",
    "- `datetime`: a date range to search\n",
    "\n",
    "This step returns STAC items that match the query, each of which points to a file that contains the relevant data.\n",
    "\n",
    "Type the code as shown in the instructions.\n",
    "When you have finished, run the cell by pressing `Shift+Enter` on your keyboard."
   ]
  },
  {
   "cell_type": "code",
   "execution_count": null,
   "metadata": {},
   "outputs": [],
   "source": []
  },
  {
   "cell_type": "markdown",
   "metadata": {},
   "source": [
    "## Load items with odc-stac\n",
    "\n",
    "In this section, you will use `odc-stac` to load the items found in the previous step. \n",
    "The load function has a few arguments:\n",
    "\n",
    "- `items`: a list of STAC items to load\n",
    "- `bands`: a list of assets to load for each item\n",
    "- `geopolygon`: the area of interest to load the data for\n",
    "- `crs`: the coordinate reference system to use. `utm` will provide the most appropriate UTM projection\n",
    "- `resolution`: the resolution to load the items at, in the same units as the `crs`. If using `utm` the unit is metres\n",
    "\n",
    "Type the code as shown in the instructions.\n",
    "When you have finished, run the cell by pressing `Shift+Enter` on your keyboard."
   ]
  },
  {
   "cell_type": "code",
   "execution_count": null,
   "metadata": {},
   "outputs": [],
   "source": []
  },
  {
   "cell_type": "markdown",
   "metadata": {},
   "source": [
    "## Visualise loaded data\n",
    "\n",
    "In this section, you will use `xarray`'s built-in plotting functionality to view the loaded data.\n",
    "This helps to verify that we loaded the expected data.\n",
    "\n",
    "Type the code as shown in the instructions.\n",
    "When you have finished, run the cell by pressing `Shift+Enter` on your keyboard."
   ]
  },
  {
   "cell_type": "code",
   "execution_count": null,
   "metadata": {},
   "outputs": [],
   "source": []
  },
  {
   "cell_type": "markdown",
   "metadata": {},
   "source": [
    "## Export loaded data\n",
    "\n",
    "In this section, you will use the `write_cog` function from `odc-geo` to export each year of data.\n",
    "You will:\n",
    "* identify the year of each dataset\n",
    "* for each year, isolate the data and write it to a Cloud Optimised GeoTIFF\n",
    "\n",
    "Type the code as shown in the instructions.\n",
    "When you have finished, run the cell by pressing `Shift+Enter` on your keyboard.\n"
   ]
  },
  {
   "cell_type": "code",
   "execution_count": null,
   "metadata": {},
   "outputs": [],
   "source": []
  },
  {
   "cell_type": "markdown",
   "metadata": {},
   "source": [
    "## Tutorial Complete!\n",
    "\n",
    "Congratulations, you've used `pystac-client` to search for data in a public STAC catalog and `odc-stac` to load the data into an `xarray`.\n",
    "\n",
    "Make sure you download the Cloud Optimised GeoTIFF files you created in the last step before exiting the tutorial.\n",
    "\n",
    "Open the file-browser by clicking the folder icon in the left menu bar.\n",
    "Then, download the Land Use Land Cover file for each year (denoted as `LULC_<year>.tif`) by right-clicking each file and selecting \"Download\".\n",
    "\n",
    "**These files will not be accessible once you close this tutorial environment.**"
   ]
  }
 ],
 "metadata": {
  "kernelspec": {
   "display_name": "tutorial-odcstac",
   "language": "python",
   "name": "python3"
  },
  "language_info": {
   "codemirror_mode": {
    "name": "ipython",
    "version": 3
   },
   "file_extension": ".py",
   "mimetype": "text/x-python",
   "name": "python",
   "nbconvert_exporter": "python",
   "pygments_lexer": "ipython3",
   "version": "3.9.21"
  }
 },
 "nbformat": 4,
 "nbformat_minor": 2
}
