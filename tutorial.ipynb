{
 "cells": [
  {
   "cell_type": "markdown",
   "metadata": {},
   "source": [
    "# odc-stac tutorial\n",
    "\n",
    "This tutorial will demonstrate how to load satellite imagery using `odc-stac`. At the end of the tutorial, you will have a Cloud Optimised GeoTIFF for an area of interest.\n",
    "\n",
    "This tutorial will cover how to:\n",
    "- Set up query variables to find satellite imagery that matches\n",
    "    - an area of interest\n",
    "    - a date range\n",
    "- Connect to a STAC catalog and find data matching the query variables\n",
    "- Load the data using `odc-stac`\n",
    "- Visualise and export the data\n"
   ]
  },
  {
   "cell_type": "markdown",
   "metadata": {},
   "source": [
    "## Python imports\n",
    "\n",
    "```\n",
    "import geopandas as gpd\n",
    "from odc.stac import load\n",
    "from pystac_client import Client\n",
    "```"
   ]
  },
  {
   "cell_type": "code",
   "execution_count": null,
   "metadata": {},
   "outputs": [],
   "source": []
  },
  {
   "cell_type": "markdown",
   "metadata": {},
   "source": [
    "## Set up query parameters"
   ]
  },
  {
   "cell_type": "markdown",
   "metadata": {},
   "source": [
    "### Area of interest\n",
    "\n",
    "```\n",
    "aoi = gpd.read_file(\"aoi.geojson\")\n",
    "\n",
    "aoi_geometry = aoi.iloc[0].geometry\n",
    "```"
   ]
  },
  {
   "cell_type": "code",
   "execution_count": null,
   "metadata": {},
   "outputs": [],
   "source": []
  },
  {
   "cell_type": "markdown",
   "metadata": {},
   "source": [
    "### Date range\n",
    "\n",
    "```\n",
    "start_date = \"2021-12-24\"\n",
    "end_date = \"2021-12-26\"\n",
    "\n",
    "date_query = (start_date, end_date)\n",
    "```"
   ]
  },
  {
   "cell_type": "code",
   "execution_count": null,
   "metadata": {},
   "outputs": [],
   "source": []
  },
  {
   "cell_type": "markdown",
   "metadata": {},
   "source": [
    "### Catalog and measurements\n",
    "\n",
    "You can use the Radiant Earth [stac-browser website](https://radiantearth.github.io/stac-browser/#/?.language=en) to preview catalog, collection, and item information.\n",
    "\n",
    "```\n",
    "catalog = \"https://earth-search.aws.element84.com/v1/\"\n",
    "collections_query = [\"sentinel-2-l2a\"]\n",
    "bands_query = [\"red\", \"green\", \"blue\"]\n",
    "```\n"
   ]
  },
  {
   "cell_type": "code",
   "execution_count": null,
   "metadata": {},
   "outputs": [],
   "source": []
  },
  {
   "cell_type": "markdown",
   "metadata": {},
   "source": [
    "## Connect to catalog and find items\n",
    "\n",
    "This step returns STAC items that match the query, each of which points to a Cloud Optimised GeoTIFF (COG) that contains the relevant data"
   ]
  },
  {
   "cell_type": "code",
   "execution_count": null,
   "metadata": {},
   "outputs": [],
   "source": [
    "# Connect to the catalog\n",
    "stac_client = Client.open(catalog)"
   ]
  },
  {
   "cell_type": "markdown",
   "metadata": {},
   "source": [
    "### Search for items\n",
    "\n",
    "`pystac-client` is used to search for items that match the query. The search function has a few arguments:\n",
    "\n",
    "- `collections`: a list of collections to search\n",
    "- `intersects`: an area of interest to search. Any item intersecting the geometry will be returned.\n",
    "- `datetime`: a date range to search"
   ]
  },
  {
   "cell_type": "code",
   "execution_count": null,
   "metadata": {},
   "outputs": [],
   "source": [
    "# Search for items matching the query\n",
    "items = stac_client.search(\n",
    "    collections=collections_query,\n",
    "    intersects=aoi_geometry,\n",
    "    datetime=date_query,\n",
    ").item_collection()\n",
    "\n",
    "print(f\"Found {len(items)} items\")"
   ]
  },
  {
   "cell_type": "markdown",
   "metadata": {},
   "source": [
    "Once returned, it is possible to view relevant metadata for all discovered items."
   ]
  },
  {
   "cell_type": "code",
   "execution_count": null,
   "metadata": {},
   "outputs": [],
   "source": [
    "items"
   ]
  },
  {
   "cell_type": "markdown",
   "metadata": {},
   "source": [
    "## Load items with odc-stac\n",
    "\n",
    "Once the location of the items is known, `odc-stac` can load these items. The load function has a few arguments:\n",
    "\n",
    "- `items`: a list of STAC items to load\n",
    "- `bands`: a list of assets to load for each item\n",
    "- `geopolygon`: the area of interest to load the data for\n",
    "- `crs`: the coordinate reference system to use. `utm` will provide the most appropriate UTM projection\n",
    "- `resolution`: the resolution to load the items at, in the same units as the `crs`. If using `utm` the unit is metres\n",
    "- `groupby`: using `solar_day` here will merge all items captured on the same solar day into one image\n",
    "\n",
    "\n",
    "```\n",
    "ds_filtered = load(\n",
    "    items,\n",
    "    bands=bands_query,\n",
    "    geopolygon=aoi_geometry,\n",
    "    crs=\"utm\",\n",
    "    resolution=30,\n",
    "    groupby=\"solar_day\",\n",
    ")\n",
    "\n",
    "ds_filtered\n",
    "```\n"
   ]
  },
  {
   "cell_type": "code",
   "execution_count": null,
   "metadata": {},
   "outputs": [],
   "source": []
  },
  {
   "cell_type": "markdown",
   "metadata": {},
   "source": [
    "## Visualise loaded data\n",
    "\n",
    "If an `xarray` has been loaded using the Open Data Cube ecosystem, it comes with an `xarray` extension `xarray.odc` that allows you to access additional geospatial metadata and functions.\n",
    "\n",
    "Learn more at [odc-geo](https://odc-geo.readthedocs.io/en/latest/intro-xr.html).\n",
    "\n",
    "```\n",
    "# Get a single image at the first time step, and remove the time dimension\n",
    "image = ds_filtered.isel(time=0).squeeze()\n",
    "\n",
    "image\n",
    "```"
   ]
  },
  {
   "cell_type": "code",
   "execution_count": null,
   "metadata": {},
   "outputs": [],
   "source": []
  },
  {
   "cell_type": "markdown",
   "metadata": {},
   "source": [
    "```\n",
    "# Create an RGB image using the .odc. extension\n",
    "visualisation = image.odc.to_rgba()\n",
    "\n",
    "# Display the RGB image on a map\n",
    "visualisation.odc.explore()\n",
    "```"
   ]
  },
  {
   "cell_type": "code",
   "execution_count": null,
   "metadata": {},
   "outputs": [],
   "source": []
  },
  {
   "cell_type": "markdown",
   "metadata": {},
   "source": [
    "## Export loaded data\n",
    "\n",
    "The `.odc` extension is also useful for saving out data as Cloud Optimised GeoTIFFs (COGs).\n",
    "\n",
    "```\n",
    "visualisation.odc.write_cog(\n",
    "    \"sentinel2_example.tif\",\n",
    "    overwrite=True\n",
    ")\n",
    "```\n"
   ]
  },
  {
   "cell_type": "code",
   "execution_count": null,
   "metadata": {},
   "outputs": [],
   "source": []
  },
  {
   "cell_type": "markdown",
   "metadata": {},
   "source": [
    "## Tutorial Complete!\n",
    "\n",
    "Try loading your saved COG in QGIS or another GIS program."
   ]
  }
 ],
 "metadata": {
  "kernelspec": {
   "display_name": "Python 3",
   "language": "python",
   "name": "python3"
  },
  "language_info": {
   "codemirror_mode": {
    "name": "ipython",
    "version": 3
   },
   "file_extension": ".py",
   "mimetype": "text/x-python",
   "name": "python",
   "nbconvert_exporter": "python",
   "pygments_lexer": "ipython3",
   "version": "3.9.21"
  }
 },
 "nbformat": 4,
 "nbformat_minor": 2
}
