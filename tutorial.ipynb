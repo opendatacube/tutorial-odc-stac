{
 "cells": [
  {
   "cell_type": "markdown",
   "metadata": {},
   "source": [
    "# odc-stac tutorial\n",
    "\n",
    "In this tutorial we will use Python libraries to search for freely available \n",
    "Sentinel-2 imagery and load it into memory.\n",
    "You will then create a true-colour image and export it as a cloud-optimised GeoTiff.\n",
    "\n",
    "During the tutorial, we will:\n",
    "\n",
    "* Specify our search in terms of:\n",
    "  \n",
    "  * what (data provider and satellite)\n",
    "  * where (area of interest)\n",
    "  * when (date range)\n",
    "* Use `pystac-client`_ to connect to a Spatio-Temporal Asset Catalog (STAC) \n",
    "  endpoint and search for data matching our what, where, and when\n",
    "* Use `odc-stac`_ to load the matching data into memory\n",
    "* Visualise and export the data\n",
    "\n",
    "## Requirements\n",
    "Please keep a copy of the [tutorial instructions](https://opendatacube.readthedocs.io/en/latest/tutorials/odc-stac.html) open.\n",
    "\n",
    "Follow the instructions for each labelled section. \n",
    "When you have finished entering code into a cell, press `Shift+Enter` on your keyboard to run the cell."
   ]
  },
  {
   "cell_type": "markdown",
   "metadata": {},
   "source": [
    "## Python imports\n",
    "\n",
    "The notebook requires three libraries to run:\n",
    "\n",
    "* `geopandas` for loading an area of interest from a file\n",
    "* `odc.stac` for loading satellite data\n",
    "* `pystac-client` for querying catalogs of satellite data\n",
    "\n",
    "Type the code to import the required libraries as shown in the instructions.\n",
    "When you have finished, run the cell by pressing `Shift+Enter` on your keyboard.\n"
   ]
  },
  {
   "cell_type": "code",
   "execution_count": null,
   "metadata": {},
   "outputs": [],
   "source": []
  },
  {
   "cell_type": "markdown",
   "metadata": {},
   "source": [
    "## Set up query parameters\n",
    "\n",
    "In this section of the tutorial, you will specify:\n",
    "\n",
    "* The area you want to load data for\n",
    "* The date range you want to load data for\n",
    "* The catalog you want to load data from\n",
    "\n",
    "Follow the instructions for each section."
   ]
  },
  {
   "cell_type": "markdown",
   "metadata": {},
   "source": [
    "### Area of interest\n",
    "\n",
    "This code will load an area of interest from a supplied `geojson` file called `aoi.geojson`. \n",
    "This file contains a polygon that covers part of Wilkinkarra (Lake Mackay) in Australia.\n",
    "It is one of Australia's large salt lakes. \n",
    "\n",
    "![A satellite image of Wilkinkarra, with the area of interest shown as a yellow bounding box.](images/wilkinkarra_aoi.png \"Wilkinkarra area of interest\")\n",
    "\n",
    "A different area of interest can be chosen by replacing `aoi.geojson` with a new geojson file, and updating the code below to point to a new file.\n",
    "\n",
    "Type the code to load the `aoi.geojson` file and extract the geometry."
   ]
  },
  {
   "cell_type": "code",
   "execution_count": null,
   "metadata": {},
   "outputs": [],
   "source": []
  },
  {
   "cell_type": "markdown",
   "metadata": {},
   "source": [
    "### Date range\n",
    "\n",
    "```\n",
    "start_date = \"2021-12-24\"\n",
    "end_date = \"2021-12-26\"\n",
    "\n",
    "date_query = (start_date, end_date)\n",
    "```"
   ]
  },
  {
   "cell_type": "code",
   "execution_count": null,
   "metadata": {},
   "outputs": [],
   "source": []
  },
  {
   "cell_type": "markdown",
   "metadata": {},
   "source": [
    "### Catalog and measurements\n",
    "\n",
    "You can use the Radiant Earth [stac-browser website](https://radiantearth.github.io/stac-browser/#/?.language=en) to preview catalog, collection, and item information.\n",
    "\n",
    "```\n",
    "catalog = \"https://earth-search.aws.element84.com/v1/\"\n",
    "collections_query = [\"sentinel-2-l2a\"]\n",
    "bands_query = [\"red\", \"green\", \"blue\"]\n",
    "```\n"
   ]
  },
  {
   "cell_type": "code",
   "execution_count": null,
   "metadata": {},
   "outputs": [],
   "source": []
  },
  {
   "cell_type": "markdown",
   "metadata": {},
   "source": [
    "## Connect to catalog and find items\n",
    "\n",
    "This step returns STAC items that match the query, each of which points to a Cloud Optimised GeoTIFF (COG) that contains the relevant data"
   ]
  },
  {
   "cell_type": "code",
   "execution_count": null,
   "metadata": {},
   "outputs": [],
   "source": [
    "# Connect to the catalog\n",
    "stac_client = Client.open(catalog)"
   ]
  },
  {
   "cell_type": "markdown",
   "metadata": {},
   "source": [
    "### Search for items\n",
    "\n",
    "`pystac-client` is used to search for items that match the query. The search function has a few arguments:\n",
    "\n",
    "- `collections`: a list of collections to search\n",
    "- `intersects`: an area of interest to search. Any item intersecting the geometry will be returned.\n",
    "- `datetime`: a date range to search"
   ]
  },
  {
   "cell_type": "code",
   "execution_count": null,
   "metadata": {},
   "outputs": [],
   "source": [
    "# Search for items matching the query\n",
    "items = stac_client.search(\n",
    "    collections=collections_query,\n",
    "    intersects=aoi_geometry,\n",
    "    datetime=date_query,\n",
    ").item_collection()\n",
    "\n",
    "print(f\"Found {len(items)} items\")"
   ]
  },
  {
   "cell_type": "markdown",
   "metadata": {},
   "source": [
    "Once returned, it is possible to view relevant metadata for all discovered items."
   ]
  },
  {
   "cell_type": "code",
   "execution_count": null,
   "metadata": {},
   "outputs": [],
   "source": [
    "items"
   ]
  },
  {
   "cell_type": "markdown",
   "metadata": {},
   "source": [
    "## Load items with odc-stac\n",
    "\n",
    "Once the location of the items is known, `odc-stac` can load these items. The load function has a few arguments:\n",
    "\n",
    "- `items`: a list of STAC items to load\n",
    "- `bands`: a list of assets to load for each item\n",
    "- `geopolygon`: the area of interest to load the data for\n",
    "- `crs`: the coordinate reference system to use. `utm` will provide the most appropriate UTM projection\n",
    "- `resolution`: the resolution to load the items at, in the same units as the `crs`. If using `utm` the unit is metres\n",
    "- `groupby`: using `solar_day` here will merge all items captured on the same solar day into one image\n",
    "\n",
    "\n",
    "```\n",
    "ds_filtered = load(\n",
    "    items,\n",
    "    bands=bands_query,\n",
    "    geopolygon=aoi_geometry,\n",
    "    crs=\"utm\",\n",
    "    resolution=30,\n",
    "    groupby=\"solar_day\",\n",
    ")\n",
    "\n",
    "ds_filtered\n",
    "```\n"
   ]
  },
  {
   "cell_type": "code",
   "execution_count": null,
   "metadata": {},
   "outputs": [],
   "source": []
  },
  {
   "cell_type": "markdown",
   "metadata": {},
   "source": [
    "## Visualise loaded data\n",
    "\n",
    "If an `xarray` has been loaded using the Open Data Cube ecosystem, it comes with an `xarray` extension `xarray.odc` that allows you to access additional geospatial metadata and functions.\n",
    "\n",
    "Learn more at [odc-geo](https://odc-geo.readthedocs.io/en/latest/intro-xr.html).\n",
    "\n",
    "```\n",
    "# Get a single image at the first time step, and remove the time dimension\n",
    "image = ds_filtered.isel(time=0).squeeze()\n",
    "\n",
    "image\n",
    "```"
   ]
  },
  {
   "cell_type": "code",
   "execution_count": null,
   "metadata": {},
   "outputs": [],
   "source": []
  },
  {
   "cell_type": "markdown",
   "metadata": {},
   "source": [
    "```\n",
    "# Create an RGB image using the .odc. extension\n",
    "visualisation = image.odc.to_rgba()\n",
    "\n",
    "# Display the RGB image on a map\n",
    "visualisation.odc.explore()\n",
    "```"
   ]
  },
  {
   "cell_type": "code",
   "execution_count": null,
   "metadata": {},
   "outputs": [],
   "source": []
  },
  {
   "cell_type": "markdown",
   "metadata": {},
   "source": [
    "## Export loaded data\n",
    "\n",
    "The `.odc` extension is also useful for saving out data as Cloud Optimised GeoTIFFs (COGs).\n",
    "\n",
    "```\n",
    "visualisation.odc.write_cog(\n",
    "    \"sentinel2_example.tif\",\n",
    "    overwrite=True\n",
    ")\n",
    "```\n"
   ]
  },
  {
   "cell_type": "code",
   "execution_count": null,
   "metadata": {},
   "outputs": [],
   "source": []
  },
  {
   "cell_type": "markdown",
   "metadata": {},
   "source": [
    "## Tutorial Complete!\n",
    "\n",
    "Try loading your saved COG in QGIS or another GIS program."
   ]
  }
 ],
 "metadata": {
  "kernelspec": {
   "display_name": "Python 3",
   "language": "python",
   "name": "python3"
  },
  "language_info": {
   "codemirror_mode": {
    "name": "ipython",
    "version": 3
   },
   "file_extension": ".py",
   "mimetype": "text/x-python",
   "name": "python",
   "nbconvert_exporter": "python",
   "pygments_lexer": "ipython3",
   "version": "3.9.21"
  }
 },
 "nbformat": 4,
 "nbformat_minor": 2
}
