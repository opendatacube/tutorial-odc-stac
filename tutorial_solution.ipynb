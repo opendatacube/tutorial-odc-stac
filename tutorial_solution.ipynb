{
 "cells": [
  {
   "cell_type": "markdown",
   "metadata": {},
   "source": [
    "# odc-stac tutorial - solution\n",
    "\n",
    "> **NOTE** This is the solution, which contains executable code. \n",
    "> Use this notebook to confirm what the correct code is if you get stuck.\n",
    "\n",
    "In this tutorial we will use Python libraries to find and load land cover data from the freely available [Impact Observatory Annual Land Use Land Cover](https://planetarycomputer.microsoft.com/dataset/io-lulc-annual-v02) product.\n",
    "After loading the data, we will export it as Cloud Optimised GeoTIFFs.\n",
    "This will allow you to further view or work with the data in GIS software and other tools.\n",
    "\n",
    "During the tutorial, we will:\n",
    "\n",
    "* Specify our search in terms of:\n",
    "\n",
    "  * what (data provider and product)\n",
    "  * where (area of interest)\n",
    "  * when (date range)\n",
    "* Use `pystac-client` to connect to a Spatio-Temporal Asset Catalog (STAC) \n",
    "  endpoint and search for data matching our what, where, and when\n",
    "* Use `odc-stac` to load the matching data into memory\n",
    "* Visualise and export the data\n",
    "\n",
    "## Requirements\n",
    "Please keep a copy of the [tutorial instructions](https://opendatacube.readthedocs.io/en/latest/tutorials/odc-stac.html) open.\n",
    "\n",
    "Follow the instructions for each labelled section. \n",
    "When you have finished entering code into a cell, press `Shift+Enter` on your keyboard to run the cell."
   ]
  },
  {
   "cell_type": "markdown",
   "metadata": {},
   "source": [
    "## Python imports\n",
    "\n",
    "In this section, you will import five packages that the notebook needs to run:\n",
    "\n",
    "* `geopandas` for loading an area of interest from a GeoJSON file\n",
    "* `odc.geo` for exporting loaded data\n",
    "* `odc.stac` for loading data\n",
    "* `planetary_computer` to provide authentication when accessing data\n",
    "* `pystac-client` for querying catalogs of data"
   ]
  },
  {
   "cell_type": "code",
   "execution_count": null,
   "metadata": {},
   "outputs": [],
   "source": [
    "import geopandas as gpd\n",
    "from odc.geo.xr import write_cog\n",
    "from odc.stac import load\n",
    "import planetary_computer\n",
    "from pystac_client import Client"
   ]
  },
  {
   "cell_type": "markdown",
   "metadata": {},
   "source": [
    "## Set up query parameters\n",
    "\n",
    "In this section of the tutorial, you will specify:\n",
    "\n",
    "* The area you want to load data for\n",
    "* The date range you want to load data for\n",
    "* The data source you want to load from"
   ]
  },
  {
   "cell_type": "markdown",
   "metadata": {},
   "source": [
    "### Area of interest\n",
    "\n",
    "We specify the area of interest using the `aoi.geojson` file, which can be loaded with `geopandas`.\n",
    "\n",
    "The area of interest is the island of La Gomera, one of the Canary Islands.\n",
    "\n",
    "![A map of La Gomera with satellite imagery, with the area of interest shown as a yellow bounding box.](images/aoi.png \"Area of interest\")"
   ]
  },
  {
   "cell_type": "code",
   "execution_count": null,
   "metadata": {},
   "outputs": [],
   "source": [
    "desired_aoi = gpd.read_file(\"aoi.geojson\")\n",
    "desired_aoi_geometry = desired_aoi.iloc[0].geometry"
   ]
  },
  {
   "cell_type": "markdown",
   "metadata": {},
   "source": [
    "### Date range\n",
    "\n",
    "We specify the date range by providing a start and end date for our query, then storing these in a tuple."
   ]
  },
  {
   "cell_type": "code",
   "execution_count": null,
   "metadata": {},
   "outputs": [],
   "source": [
    "desired_start_date = \"2017-01-01\"\n",
    "desired_end_date = \"2023-01-01\"\n",
    "desired_date_range = (desired_start_date, desired_end_date)"
   ]
  },
  {
   "cell_type": "markdown",
   "metadata": {},
   "source": [
    "### STAC metadata\n",
    "\n",
    "When working with STAC, we need to specify:\n",
    "\n",
    "* The STAC URL for the catalog to search as `\"https://planetarycomputer.microsoft.com/api/stac/v1/\"`\n",
    "* The desired collection as `[\"io-lulc-annual-v02\"]`\n",
    "* The desired assets as `[\"data\"]`"
   ]
  },
  {
   "cell_type": "code",
   "execution_count": null,
   "metadata": {},
   "outputs": [],
   "source": [
    "catalog_url = \"https://planetarycomputer.microsoft.com/api/stac/v1/\"\n",
    "desired_collections = [\"io-lulc-annual-v02\"]\n",
    "desired_assets = [\"data\"]"
   ]
  },
  {
   "cell_type": "markdown",
   "metadata": {},
   "source": [
    "## Connect to catalog and find items\n",
    "\n",
    "This section returns STAC items that match the query, each of which points to a Cloud Optimised GeoTIFF (COG) that contains the relevant data.\n",
    "\n",
    "The first step is to use `pystac-client`_'s :code:`Client` class to connect to Planetary Computer's STAC catalog.\n",
    "We also use :code:`planetary_computer.sign_inplace` to authorise our connection."
   ]
  },
  {
   "cell_type": "code",
   "execution_count": null,
   "metadata": {},
   "outputs": [],
   "source": [
    "# Connect to the catalog\n",
    "stac_client = Client.open(\n",
    "    url=catalog_url, \n",
    "    modifier=planetary_computer.sign_inplace,\n",
    ")"
   ]
  },
  {
   "cell_type": "markdown",
   "metadata": {},
   "source": [
    "### Search for items\n",
    "\n",
    "This section searches for items that match the query using `pystac-client`.\n",
    "The search function has a few arguments:\n",
    "\n",
    "- `collections`: a list of collections to search\n",
    "- `intersects`: an area of interest to search. Any item intersecting the geometry will be returned.\n",
    "- `datetime`: a date range to search\n",
    "\n",
    "This step returns STAC items that match the query, each of which points to a file that contains the relevant data."
   ]
  },
  {
   "cell_type": "code",
   "execution_count": null,
   "metadata": {},
   "outputs": [],
   "source": [
    "# Search for items matching the query\n",
    "items = stac_client.search(\n",
    "    collections=desired_collections,\n",
    "    intersects=desired_aoi_geometry,\n",
    "    datetime=desired_date_range,\n",
    ").item_collection()\n",
    "\n",
    "print(f\"Found {len(items)} items\")"
   ]
  },
  {
   "cell_type": "markdown",
   "metadata": {},
   "source": [
    "Once returned, it is possible to view relevant metadata for all discovered items."
   ]
  },
  {
   "cell_type": "code",
   "execution_count": null,
   "metadata": {},
   "outputs": [],
   "source": [
    "items"
   ]
  },
  {
   "cell_type": "markdown",
   "metadata": {},
   "source": [
    "## Load items with odc-stac\n",
    "\n",
    "After producing a list of items to load, we can use the `load` function from `odc-stac` to read the requested assets from the items and return them as xarrays. \n",
    "The load function has a few arguments:\n",
    "\n",
    "- `items`: a list of STAC items to load\n",
    "- `bands`: a list of assets to load for each item\n",
    "- `geopolygon`: the area of interest to load the data for\n",
    "- `crs`: the coordinate reference system to use. `utm` will provide the most appropriate UTM projection\n",
    "- `resolution`: the resolution to load the items at, in the same units as the `crs`. If using `utm` the unit is metres"
   ]
  },
  {
   "cell_type": "code",
   "execution_count": null,
   "metadata": {},
   "outputs": [],
   "source": [
    "ds = load(\n",
    "    items=items,\n",
    "    bands=desired_assets,\n",
    "    geopolygon=desired_aoi_geometry,\n",
    "    crs=\"utm\",\n",
    "    resolution=30\n",
    ")\n",
    "\n",
    "ds"
   ]
  },
  {
   "cell_type": "markdown",
   "metadata": {},
   "source": [
    "## Visualise loaded data\n",
    "To confirm that we have loaded the requested data, it is useful to visualise it. \n",
    "We can use `xarray`'s built-in plotting functionality to make a basic plot.\n",
    "\n",
    "It is possible to further customise the plot, as demonstrated in the Microsoft Planetary Computer [example notebook](https://planetarycomputer.microsoft.com/dataset/io-lulc-annual-v02#Example-Notebook)."
   ]
  },
  {
   "cell_type": "code",
   "execution_count": null,
   "metadata": {},
   "outputs": [],
   "source": [
    "# Plot a time series of the landcover observations, stored in ds[\"data\"], with three images per row\n",
    "ds[\"data\"].plot.imshow(col=\"time\", col_wrap=3)"
   ]
  },
  {
   "cell_type": "markdown",
   "metadata": {},
   "source": [
    "## Export loaded data\n",
    "\n",
    "You may wish to use your loaded data in other applications, such as a GIS program, or in other Python workflows. \n",
    "As such, it is valuable to export each image as a Cloud Optimised GeoTIFF. \n",
    "The `odc-geo` library provides the `write_cog` function to generate and write these files from an `xarray`."
   ]
  },
  {
   "cell_type": "code",
   "execution_count": null,
   "metadata": {},
   "outputs": [],
   "source": [
    "years = ds.time.dt.strftime(\"%Y\").values\n",
    "\n",
    "for timestep in range(len(ds.time)):\n",
    "\n",
    "    ds_single_year = ds[\"data\"].isel(time=timestep)\n",
    "    \n",
    "    write_cog(\n",
    "        ds_single_year,\n",
    "        f\"LULC_{years[timestep]}.tif\", \n",
    "        overwrite=True,\n",
    "    )"
   ]
  },
  {
   "cell_type": "markdown",
   "metadata": {},
   "source": [
    "## Tutorial complete!\n",
    "\n",
    "Congratulations, you've used `pystac-client` to search for data in a public STAC catalog and `odc-stac` to load the data into an `xarray`.\n",
    "\n",
    "Make sure you download the Cloud Optimised GeoTIFF files you created in the last step before exiting the tutorial.\n",
    "\n",
    "Open the file-browser by clicking the folder icon in the left menu bar.\n",
    "Then, download the Land Use Land Cover file for each year (denoted as `LULC_<year>.tif`) by right-clicking each file and selecting \"Download\".\n",
    "\n",
    "**These files will not be accessible once you close this tutorial environment.**"
   ]
  }
 ],
 "metadata": {
  "kernelspec": {
   "display_name": "Python 3",
   "language": "python",
   "name": "python3"
  },
  "language_info": {
   "codemirror_mode": {
    "name": "ipython",
    "version": 3
   },
   "file_extension": ".py",
   "mimetype": "text/x-python",
   "name": "python",
   "nbconvert_exporter": "python",
   "pygments_lexer": "ipython3",
   "version": "3.13.5"
  }
 },
 "nbformat": 4,
 "nbformat_minor": 2
}
